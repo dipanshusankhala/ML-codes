{
  "nbformat": 4,
  "nbformat_minor": 0,
  "metadata": {
    "colab": {
      "provenance": [],
      "authorship_tag": "ABX9TyN5OMILB06Wbx1dYXnLxViV",
      "include_colab_link": true
    },
    "kernelspec": {
      "name": "python3",
      "display_name": "Python 3"
    },
    "language_info": {
      "name": "python"
    }
  },
  "cells": [
    {
      "cell_type": "markdown",
      "metadata": {
        "id": "view-in-github",
        "colab_type": "text"
      },
      "source": [
        "<a href=\"https://colab.research.google.com/github/dipanshusankhala/ML-codes/blob/main/temprature2.ipynb\" target=\"_parent\"><img src=\"https://colab.research.google.com/assets/colab-badge.svg\" alt=\"Open In Colab\"/></a>"
      ]
    },
    {
      "cell_type": "code",
      "execution_count": 1,
      "metadata": {
        "id": "Ap1a69Ty0vZK"
      },
      "outputs": [],
      "source": [
        "import matplotlib.pyplot as plt\n",
        "import pandas as pd\n",
        "from operator import mul\n",
        "import numpy as np\n",
        "import seaborn as sns"
      ]
    },
    {
      "cell_type": "code",
      "source": [
        "df = pd.read_csv('/content/temperatures.csv')"
      ],
      "metadata": {
        "id": "tPPo0aqg1s4q"
      },
      "execution_count": 2,
      "outputs": []
    },
    {
      "cell_type": "code",
      "source": [
        "print(df.head(n=10))"
      ],
      "metadata": {
        "colab": {
          "base_uri": "https://localhost:8080/"
        },
        "id": "12Zlj6j310gQ",
        "outputId": "7710ba93-4de8-447f-8719-32ca94187416"
      },
      "execution_count": 3,
      "outputs": [
        {
          "output_type": "stream",
          "name": "stdout",
          "text": [
            "   YEAR    JAN    FEB    MAR    APR    MAY    JUN    JUL    AUG    SEP    OCT  \\\n",
            "0  1901  22.40  24.14  29.07  31.91  33.41  33.18  31.21  30.39  30.47  29.97   \n",
            "1  1902  24.93  26.58  29.77  31.78  33.73  32.91  30.92  30.73  29.80  29.12   \n",
            "2  1903  23.44  25.03  27.83  31.39  32.91  33.00  31.34  29.98  29.85  29.04   \n",
            "3  1904  22.50  24.73  28.21  32.02  32.64  32.07  30.36  30.09  30.04  29.20   \n",
            "4  1905  22.00  22.83  26.68  30.01  33.32  33.25  31.44  30.68  30.12  30.67   \n",
            "5  1906  22.28  23.69  27.31  31.93  34.11  32.19  31.01  30.30  29.92  29.55   \n",
            "6  1907  24.46  24.01  27.04  31.79  32.68  31.92  31.05  29.58  30.67  29.87   \n",
            "7  1908  23.57  25.26  28.86  32.42  33.02  33.12  30.61  29.55  29.59  29.35   \n",
            "8  1909  22.67  24.36  29.22  30.79  33.06  31.70  29.81  29.81  30.06  29.25   \n",
            "9  1910  23.24  25.16  28.48  31.42  33.51  31.84  30.42  29.86  29.82  28.91   \n",
            "\n",
            "     NOV    DEC  ANNUAL  JAN-FEB  MAR-MAY  JUN-SEP  OCT-DEC  \n",
            "0  27.31  24.49   28.96    23.27    31.46    31.27    27.25  \n",
            "1  26.31  24.04   29.22    25.75    31.76    31.09    26.49  \n",
            "2  26.08  23.65   28.47    24.24    30.71    30.92    26.26  \n",
            "3  26.36  23.63   28.49    23.62    30.95    30.66    26.40  \n",
            "4  27.52  23.82   28.30    22.25    30.00    31.33    26.57  \n",
            "5  27.60  24.72   28.73    23.03    31.11    30.86    27.29  \n",
            "6  27.78  24.44   28.65    24.23    29.92    30.80    27.36  \n",
            "7  26.88  23.73   28.83    24.42    31.43    30.72    26.64  \n",
            "8  27.69  23.69   28.38    23.52    31.02    30.33    26.88  \n",
            "9  26.32  23.37   28.53    24.20    31.14    30.48    26.20  \n"
          ]
        }
      ]
    },
    {
      "cell_type": "code",
      "source": [
        "print(\"Below are the datatypes of columns:\")\n",
        "print(df.dtypes)\n",
        "print()"
      ],
      "metadata": {
        "colab": {
          "base_uri": "https://localhost:8080/"
        },
        "id": "4EfqyL5H138i",
        "outputId": "e70c0bef-c0c0-4d25-ba30-108c5109b300"
      },
      "execution_count": 4,
      "outputs": [
        {
          "output_type": "stream",
          "name": "stdout",
          "text": [
            "Below are the datatypes of columns:\n",
            "YEAR         int64\n",
            "JAN        float64\n",
            "FEB        float64\n",
            "MAR        float64\n",
            "APR        float64\n",
            "MAY        float64\n",
            "JUN        float64\n",
            "JUL        float64\n",
            "AUG        float64\n",
            "SEP        float64\n",
            "OCT        float64\n",
            "NOV        float64\n",
            "DEC        float64\n",
            "ANNUAL     float64\n",
            "JAN-FEB    float64\n",
            "MAR-MAY    float64\n",
            "JUN-SEP    float64\n",
            "OCT-DEC    float64\n",
            "dtype: object\n",
            "\n"
          ]
        }
      ]
    },
    {
      "cell_type": "code",
      "source": [
        "print(\"Below are the columns in the dataset:\")\n",
        "print(df.columns)\n",
        "print()"
      ],
      "metadata": {
        "colab": {
          "base_uri": "https://localhost:8080/"
        },
        "id": "iIu4fHrv19KB",
        "outputId": "7a4e8e2b-cd6f-4714-ccd0-6cb19b2b1ee0"
      },
      "execution_count": 5,
      "outputs": [
        {
          "output_type": "stream",
          "name": "stdout",
          "text": [
            "Below are the columns in the dataset:\n",
            "Index(['YEAR', 'JAN', 'FEB', 'MAR', 'APR', 'MAY', 'JUN', 'JUL', 'AUG', 'SEP',\n",
            "       'OCT', 'NOV', 'DEC', 'ANNUAL', 'JAN-FEB', 'MAR-MAY', 'JUN-SEP',\n",
            "       'OCT-DEC'],\n",
            "      dtype='object')\n",
            "\n"
          ]
        }
      ]
    },
    {
      "cell_type": "code",
      "source": [
        "print(\"Descritive information about data set:\")\n",
        "print(df.describe())"
      ],
      "metadata": {
        "colab": {
          "base_uri": "https://localhost:8080/"
        },
        "id": "82OrLfYW2AkZ",
        "outputId": "3c1f269f-ab7b-4eaf-f258-4cfd2edc0849"
      },
      "execution_count": 6,
      "outputs": [
        {
          "output_type": "stream",
          "name": "stdout",
          "text": [
            "Descritive information about data set:\n",
            "              YEAR         JAN         FEB         MAR         APR  \\\n",
            "count   117.000000  117.000000  117.000000  117.000000  117.000000   \n",
            "mean   1959.000000   23.687436   25.597863   29.085983   31.975812   \n",
            "std      33.919021    0.834588    1.150757    1.068451    0.889478   \n",
            "min    1901.000000   22.000000   22.830000   26.680000   30.010000   \n",
            "25%    1930.000000   23.100000   24.780000   28.370000   31.460000   \n",
            "50%    1959.000000   23.680000   25.480000   29.040000   31.950000   \n",
            "75%    1988.000000   24.180000   26.310000   29.610000   32.420000   \n",
            "max    2017.000000   26.940000   29.720000   32.620000   35.380000   \n",
            "\n",
            "              MAY         JUN         JUL         AUG         SEP         OCT  \\\n",
            "count  117.000000  117.000000  117.000000  117.000000  117.000000  117.000000   \n",
            "mean    33.565299   32.774274   31.035897   30.507692   30.486752   29.766581   \n",
            "std      0.724905    0.633132    0.468818    0.476312    0.544295    0.705492   \n",
            "min     31.930000   31.100000   29.760000   29.310000   29.070000   27.900000   \n",
            "25%     33.110000   32.340000   30.740000   30.180000   30.120000   29.380000   \n",
            "50%     33.510000   32.730000   31.000000   30.540000   30.520000   29.780000   \n",
            "75%     34.030000   33.180000   31.330000   30.760000   30.810000   30.170000   \n",
            "max     35.840000   34.480000   32.760000   31.840000   32.220000   32.290000   \n",
            "\n",
            "              NOV         DEC      ANNUAL     JAN-FEB     MAR-MAY     JUN-SEP  \\\n",
            "count  117.000000  117.000000  117.000000  117.000000  117.000000  117.000000   \n",
            "mean    27.285470   24.608291   29.181368   24.629573   31.517607   31.198205   \n",
            "std      0.714518    0.782644    0.555555    0.911239    0.740585    0.420508   \n",
            "min     25.700000   23.020000   28.110000   22.250000   29.920000   30.240000   \n",
            "25%     26.790000   24.040000   28.760000   24.110000   31.040000   30.920000   \n",
            "50%     27.300000   24.660000   29.090000   24.530000   31.470000   31.190000   \n",
            "75%     27.720000   25.110000   29.470000   25.150000   31.890000   31.400000   \n",
            "max     30.110000   28.010000   31.630000   28.330000   34.570000   32.410000   \n",
            "\n",
            "          OCT-DEC  \n",
            "count  117.000000  \n",
            "mean    27.208120  \n",
            "std      0.672003  \n",
            "min     25.740000  \n",
            "25%     26.700000  \n",
            "50%     27.210000  \n",
            "75%     27.610000  \n",
            "max     30.030000  \n"
          ]
        }
      ]
    },
    {
      "cell_type": "code",
      "source": [
        "print(df.isnull().sum())"
      ],
      "metadata": {
        "colab": {
          "base_uri": "https://localhost:8080/"
        },
        "id": "K4Zw_2le2FFr",
        "outputId": "fcf1b4ec-f411-4e75-fc67-62e9cdf06541"
      },
      "execution_count": 7,
      "outputs": [
        {
          "output_type": "stream",
          "name": "stdout",
          "text": [
            "YEAR       0\n",
            "JAN        0\n",
            "FEB        0\n",
            "MAR        0\n",
            "APR        0\n",
            "MAY        0\n",
            "JUN        0\n",
            "JUL        0\n",
            "AUG        0\n",
            "SEP        0\n",
            "OCT        0\n",
            "NOV        0\n",
            "DEC        0\n",
            "ANNUAL     0\n",
            "JAN-FEB    0\n",
            "MAR-MAY    0\n",
            "JUN-SEP    0\n",
            "OCT-DEC    0\n",
            "dtype: int64\n"
          ]
        }
      ]
    },
    {
      "cell_type": "code",
      "source": [
        "top_10_data = df.nlargest(10, \"ANNUAL\")\n",
        "print(top_10_data)"
      ],
      "metadata": {
        "colab": {
          "base_uri": "https://localhost:8080/"
        },
        "id": "9hB-9pMb2HH5",
        "outputId": "47382953-cadc-487c-d86f-c11ad0cc593b"
      },
      "execution_count": 8,
      "outputs": [
        {
          "output_type": "stream",
          "name": "stdout",
          "text": [
            "     YEAR    JAN    FEB    MAR    APR    MAY    JUN    JUL    AUG    SEP  \\\n",
            "115  2016  26.94  29.72  32.62  35.38  35.72  34.03  31.64  31.79  31.66   \n",
            "116  2017  26.45  29.46  31.60  34.95  35.84  33.82  31.88  31.72  32.22   \n",
            "108  2009  25.27  27.75  30.57  33.09  34.09  33.73  31.77  31.84  31.60   \n",
            "101  2002  24.56  26.18  30.59  33.51  35.08  33.46  32.76  31.04  31.05   \n",
            "94   1995  24.44  26.93  29.92  32.83  34.45  34.48  31.39  30.91  31.24   \n",
            "109  2010  24.89  27.03  31.94  34.07  34.43  33.22  31.24  30.77  30.65   \n",
            "105  2006  25.66  29.33  29.56  32.59  34.09  32.65  31.59  30.76  30.57   \n",
            "100  2001  24.36  27.40  30.32  32.54  34.96  32.34  31.33  31.31  31.66   \n",
            "114  2015  24.58  26.89  29.07  31.87  34.09  32.48  31.88  31.52  31.55   \n",
            "106  2007  25.19  26.28  29.33  33.57  34.05  32.63  31.29  31.06  30.64   \n",
            "\n",
            "       OCT    NOV    DEC  ANNUAL  JAN-FEB  MAR-MAY  JUN-SEP  OCT-DEC  \n",
            "115  31.98  30.11  28.01   31.63    28.33    34.57    32.28    30.03  \n",
            "116  32.29  29.60  27.18   31.42    27.95    34.13    32.41    29.69  \n",
            "108  30.75  27.59  25.53   30.30    26.51    32.57    32.24    27.96  \n",
            "101  31.02  28.86  25.88   30.23    25.37    33.06    32.02    28.36  \n",
            "94   30.93  28.51  26.21   30.18    25.68    32.40    32.01    28.52  \n",
            "109  30.47  28.01  24.88   30.13    25.96    33.47    31.43    27.78  \n",
            "105  30.46  27.61  25.27   30.06    27.44    32.08    31.39    27.78  \n",
            "100  30.79  28.26  25.33   29.99    25.88    32.61    31.62    28.13  \n",
            "114  31.04  28.10  25.67   29.90    25.74    31.68    31.87    28.27  \n",
            "106  30.49  28.41  25.19   29.84    25.73    32.32    31.40    28.03  \n"
          ]
        }
      ]
    },
    {
      "cell_type": "code",
      "source": [
        "sns.barplot(x=top_10_data.YEAR, y=top_10_data.ANNUAL)"
      ],
      "metadata": {
        "colab": {
          "base_uri": "https://localhost:8080/",
          "height": 296
        },
        "id": "u_cqryba27PY",
        "outputId": "5cbcbd15-d1ef-48b6-f76b-b1f10f9d6924"
      },
      "execution_count": 11,
      "outputs": [
        {
          "output_type": "execute_result",
          "data": {
            "text/plain": [
              "<matplotlib.axes._subplots.AxesSubplot at 0x7fa7e616e650>"
            ]
          },
          "metadata": {},
          "execution_count": 11
        },
        {
          "output_type": "display_data",
          "data": {
            "text/plain": [
              "<Figure size 432x288 with 1 Axes>"
            ],
            "image/png": "[encoded data removed]"
          },
          "metadata": {
            "needs_background": "light"
          }
        }
      ]
    },
    {
      "cell_type": "code",
      "source": [
        "data_2016 = df[df[\"YEAR\"]==2016]\n",
        "print(data_2016)"
      ],
      "metadata": {
        "colab": {
          "base_uri": "https://localhost:8080/"
        },
        "id": "zULdrFbe3Dg6",
        "outputId": "50e29e98-4e72-44da-e546-9d1efd92e285"
      },
      "execution_count": 12,
      "outputs": [
        {
          "output_type": "stream",
          "name": "stdout",
          "text": [
            "     YEAR    JAN    FEB    MAR    APR    MAY    JUN    JUL    AUG    SEP  \\\n",
            "115  2016  26.94  29.72  32.62  35.38  35.72  34.03  31.64  31.79  31.66   \n",
            "\n",
            "       OCT    NOV    DEC  ANNUAL  JAN-FEB  MAR-MAY  JUN-SEP  OCT-DEC  \n",
            "115  31.98  30.11  28.01   31.63    28.33    34.57    32.28    30.03  \n"
          ]
        }
      ]
    },
    {
      "cell_type": "code",
      "source": [
        "xticks = np.array(data_2016[[\"JAN\", \"FEB\", \"MAR\", \"APR\", \"MAY\", \"JUN\", \"JUL\", \"AUG\", \"SEP\", \"OCT\", \"NOV\", \"DEC\"]].values)\n",
        "print(xticks)"
      ],
      "metadata": {
        "colab": {
          "base_uri": "https://localhost:8080/"
        },
        "id": "qfPZlthY3JXH",
        "outputId": "6775c30d-cbc8-4480-aeed-af1d45607dca"
      },
      "execution_count": 15,
      "outputs": [
        {
          "output_type": "stream",
          "name": "stdout",
          "text": [
            "[[26.94 29.72 32.62 35.38 35.72 34.03 31.64 31.79 31.66 31.98 30.11 28.01]]\n"
          ]
        }
      ]
    },
    {
      "cell_type": "code",
      "source": [
        "yticks = [\"JAN\", \"FEB\", \"MAR\", \"APR\", \"MAY\", \"JUN\", \"JUL\", \"AUG\", \"SEP\", \"OCT\", \"NOV\",\"DEC\"]\n",
        "print(yticks)"
      ],
      "metadata": {
        "colab": {
          "base_uri": "https://localhost:8080/"
        },
        "id": "TBbQjuLg3Vw_",
        "outputId": "50c3faad-74e8-4780-d0a2-9a34276b4578"
      },
      "execution_count": 16,
      "outputs": [
        {
          "output_type": "stream",
          "name": "stdout",
          "text": [
            "['JAN', 'FEB', 'MAR', 'APR', 'MAY', 'JUN', 'JUL', 'AUG', 'SEP', 'OCT', 'NOV', 'DEC']\n"
          ]
        }
      ]
    },
    {
      "cell_type": "code",
      "source": [
        "plt.figure(figsize=(10,8))"
      ],
      "metadata": {
        "colab": {
          "base_uri": "https://localhost:8080/",
          "height": 52
        },
        "id": "XpUR2J2F3brG",
        "outputId": "ae566f6b-969c-49ae-8ad7-b5fd9238c545"
      },
      "execution_count": 17,
      "outputs": [
        {
          "output_type": "execute_result",
          "data": {
            "text/plain": [
              "<Figure size 720x576 with 0 Axes>"
            ]
          },
          "metadata": {},
          "execution_count": 17
        },
        {
          "output_type": "display_data",
          "data": {
            "text/plain": [
              "<Figure size 720x576 with 0 Axes>"
            ]
          },
          "metadata": {}
        }
      ]
    },
    {
      "cell_type": "code",
      "source": [
        "plt.barh(yticks,xticks[0])\n",
        "plt.title(\"Month wise temperature data of 2016\")\n",
        "plt.xlabel(\"Temperature in degree celsius\")\n",
        "plt.ylabel(\"Month\")\n",
        "plt.show()"
      ],
      "metadata": {
        "colab": {
          "base_uri": "https://localhost:8080/",
          "height": 295
        },
        "id": "OPeSs7UE3d5n",
        "outputId": "7b8585b4-2207-401a-d208-498c350c58a0"
      },
      "execution_count": 18,
      "outputs": [
        {
          "output_type": "display_data",
          "data": {
            "text/plain": [
              "<Figure size 432x288 with 1 Axes>"
            ],
            "image/png": "[encoded data removed]"
          },
          "metadata": {
            "needs_background": "light"
          }
        }
      ]
    },
    {
      "cell_type": "code",
      "source": [
        "from sklearn import linear_model, metrics"
      ],
      "metadata": {
        "id": "Bi-V7io-308V"
      },
      "execution_count": 19,
      "outputs": []
    },
    {
      "cell_type": "code",
      "source": [
        "print(df.columns)"
      ],
      "metadata": {
        "colab": {
          "base_uri": "https://localhost:8080/"
        },
        "id": "7DOMo80937BO",
        "outputId": "532f859c-76bb-4732-f428-ac7d1e03549c"
      },
      "execution_count": 20,
      "outputs": [
        {
          "output_type": "stream",
          "name": "stdout",
          "text": [
            "Index(['YEAR', 'JAN', 'FEB', 'MAR', 'APR', 'MAY', 'JUN', 'JUL', 'AUG', 'SEP',\n",
            "       'OCT', 'NOV', 'DEC', 'ANNUAL', 'JAN-FEB', 'MAR-MAY', 'JUN-SEP',\n",
            "       'OCT-DEC'],\n",
            "      dtype='object')\n"
          ]
        }
      ]
    },
    {
      "cell_type": "code",
      "source": [
        "X=df[[\"YEAR\"]]\n",
        "Y=df[[\"JAN\"]]\n",
        "\n",
        "from sklearn.model_selection import train_test_split\n",
        "\n",
        "X_train, X_test, Y_train, Y_test = train_test_split(X, Y, test_size=0.2, random_state=1)\n",
        "print(len(X_train))\n",
        "print(len(X_test))\n",
        "print(df.shape)"
      ],
      "metadata": {
        "colab": {
          "base_uri": "https://localhost:8080/"
        },
        "id": "B5YMV-JV38TN",
        "outputId": "163d9a5e-a2c3-4d77-de43-a10df09260ea"
      },
      "execution_count": 21,
      "outputs": [
        {
          "output_type": "stream",
          "name": "stdout",
          "text": [
            "93\n",
            "24\n",
            "(117, 18)\n"
          ]
        }
      ]
    },
    {
      "cell_type": "code",
      "source": [
        "reg = linear_model.LinearRegression()\n",
        "print(X_train)"
      ],
      "metadata": {
        "colab": {
          "base_uri": "https://localhost:8080/"
        },
        "id": "bKUrzZKH4FR2",
        "outputId": "fdb9c253-8e13-4da0-c984-af6f01239d02"
      },
      "execution_count": 22,
      "outputs": [
        {
          "output_type": "stream",
          "name": "stdout",
          "text": [
            "     YEAR\n",
            "56   1957\n",
            "94   1995\n",
            "35   1936\n",
            "38   1939\n",
            "93   1994\n",
            "..    ...\n",
            "9    1910\n",
            "72   1973\n",
            "12   1913\n",
            "107  2008\n",
            "37   1938\n",
            "\n",
            "[93 rows x 1 columns]\n"
          ]
        }
      ]
    },
    {
      "cell_type": "code",
      "source": [
        "#fit decision line in Regression Model\n",
        "model = reg.fit(X_train, Y_train)"
      ],
      "metadata": {
        "id": "hL8AzApf4J_O"
      },
      "execution_count": 23,
      "outputs": []
    },
    {
      "cell_type": "code",
      "source": [
        "print(model)"
      ],
      "metadata": {
        "colab": {
          "base_uri": "https://localhost:8080/"
        },
        "id": "se-fsdGZ4Luu",
        "outputId": "c88af25c-3eaf-4f3a-b293-c34beea66e16"
      },
      "execution_count": 24,
      "outputs": [
        {
          "output_type": "stream",
          "name": "stdout",
          "text": [
            "LinearRegression()\n"
          ]
        }
      ]
    },
    {
      "cell_type": "code",
      "source": [
        "#Predict test data\n",
        "Y_pred = model.predict(X_test)"
      ],
      "metadata": {
        "id": "fGyVDwco4Rsn"
      },
      "execution_count": 25,
      "outputs": []
    },
    {
      "cell_type": "code",
      "source": [
        "#Year wise predtion data\n",
        "print('predicted response:', Y_pred, sep='\\n')"
      ],
      "metadata": {
        "colab": {
          "base_uri": "https://localhost:8080/"
        },
        "id": "96DplsCM4TGl",
        "outputId": "bfb71143-b990-4642-b56f-934f177f0dc5"
      },
      "execution_count": 26,
      "outputs": [
        {
          "output_type": "stream",
          "name": "stdout",
          "text": [
            "predicted response:\n",
            "[[23.92097555]\n",
            " [23.5791937 ]\n",
            " [23.75751466]\n",
            " [24.58967916]\n",
            " [23.98041587]\n",
            " [24.35191788]\n",
            " [23.35629249]\n",
            " [23.68321426]\n",
            " [23.86153523]\n",
            " [24.32219772]\n",
            " [24.30733764]\n",
            " [24.3370578 ]\n",
            " [22.92535016]\n",
            " [23.81695498]\n",
            " [24.53023884]\n",
            " [23.71293442]\n",
            " [24.42621828]\n",
            " [24.38163804]\n",
            " [23.87639531]\n",
            " [23.54947354]\n",
            " [24.03985619]\n",
            " [23.14825137]\n",
            " [24.09929651]\n",
            " [23.99527595]]\n"
          ]
        }
      ]
    },
    {
      "cell_type": "code",
      "source": [
        "#training regression model Scatter black color plots\n",
        "plt.scatter(X_train, Y_train, color='black')"
      ],
      "metadata": {
        "colab": {
          "base_uri": "https://localhost:8080/",
          "height": 282
        },
        "id": "8yNHXqcl4XRN",
        "outputId": "d4efd082-ae45-409f-dd10-a3ff23b30046"
      },
      "execution_count": 27,
      "outputs": [
        {
          "output_type": "execute_result",
          "data": {
            "text/plain": [
              "<matplotlib.collections.PathCollection at 0x7fa7e50cda90>"
            ]
          },
          "metadata": {},
          "execution_count": 27
        },
        {
          "output_type": "display_data",
          "data": {
            "text/plain": [
              "<Figure size 432x288 with 1 Axes>"
            ],
            "image/png": "[encoded data removed]"
          },
          "metadata": {
            "needs_background": "light"
          }
        }
      ]
    },
    {
      "cell_type": "code",
      "source": [
        "#Blue line indicate predicted training data\n",
        "plt.plot(X_train, reg.predict(X_train), color='blue', linewidth=3)\n",
        "plt.title(\"Temperature vs Year\")\n",
        "plt.xlabel(\"Year\")\n",
        "plt.ylabel(\"Temperature\")\n",
        "plt.show()"
      ],
      "metadata": {
        "colab": {
          "base_uri": "https://localhost:8080/",
          "height": 295
        },
        "id": "2Qer8JVf4cX1",
        "outputId": "ff844761-2810-4912-db5a-330d0fe6d1ce"
      },
      "execution_count": 28,
      "outputs": [
        {
          "output_type": "display_data",
          "data": {
            "text/plain": [
              "<Figure size 432x288 with 1 Axes>"
            ],
            "image/png": "[encoded data removed]"
          },
          "metadata": {
            "needs_background": "light"
          }
        }
      ]
    },
    {
      "cell_type": "code",
      "source": [
        "#testing regression model Scatter red color plots\n",
        "plt.scatter(X_test, Y_test, color='red')"
      ],
      "metadata": {
        "colab": {
          "base_uri": "https://localhost:8080/",
          "height": 282
        },
        "id": "9QeP4paB4icl",
        "outputId": "72fa189a-9565-488c-81a4-da4c843677e8"
      },
      "execution_count": 29,
      "outputs": [
        {
          "output_type": "execute_result",
          "data": {
            "text/plain": [
              "<matplotlib.collections.PathCollection at 0x7fa7e4fb74d0>"
            ]
          },
          "metadata": {},
          "execution_count": 29
        },
        {
          "output_type": "display_data",
          "data": {
            "text/plain": [
              "<Figure size 432x288 with 1 Axes>"
            ],
            "image/png": "[encoded data removed]"
          },
          "metadata": {
            "needs_background": "light"
          }
        }
      ]
    },
    {
      "cell_type": "code",
      "source": [
        "#Acc year machine predict temp\n",
        "plt.plot(X_test, reg.predict(X_test), color='black', linewidth=3)\n",
        "plt.title(\"Temperature vs Year\")\n",
        "plt.xlabel(\"Year\")\n",
        "plt.ylabel(\"Temperature\")\n",
        "plt.show()"
      ],
      "metadata": {
        "colab": {
          "base_uri": "https://localhost:8080/",
          "height": 295
        },
        "id": "jiV5eBGc4qak",
        "outputId": "7f1e65cf-1192-4bdc-ad07-18fb92469472"
      },
      "execution_count": 30,
      "outputs": [
        {
          "output_type": "display_data",
          "data": {
            "text/plain": [
              "<Figure size 432x288 with 1 Axes>"
            ],
            "image/png": "[encoded data removed]"
          },
          "metadata": {
            "needs_background": "light"
          }
        }
      ]
    }
  ]
}